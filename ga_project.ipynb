{
 "metadata": {
  "name": "",
  "signature": "sha256:f6ecc0cf2017288ca39cf8005c0ce490cc6d9c12632eab644b4031d2468929e9"
 },
 "nbformat": 3,
 "nbformat_minor": 0,
 "worksheets": [
  {
   "cells": [
    {
     "cell_type": "code",
     "collapsed": false,
     "input": [
      "import matplotlib\n",
      "matplotlib.use('Agg')\n",
      "import matplotlib.pyplot as plt\n",
      "import pandas as pd\n",
      "import os\n",
      "import numpy as np\n",
      "import json as js\n",
      "import seaborn\n",
      "from bokeh.plotting import *\n",
      "from pandas.io.json import json_normalize\n",
      "from pandas.tools.plotting import scatter_matrix\n",
      "from blaze import *\n",
      "pd.set_option('display.max_columns', None)\n",
      "\n",
      "pd.set_option('display.height', 500)\n",
      "pd.set_option('display.max_rows', 20)\n",
      "pd.set_option('display.width', 1000)"
     ],
     "language": "python",
     "metadata": {},
     "outputs": [
      {
       "output_type": "stream",
       "stream": "stdout",
       "text": [
        "height has been deprecated.\n",
        "\n"
       ]
      }
     ],
     "prompt_number": 92
    },
    {
     "cell_type": "code",
     "collapsed": false,
     "input": [
      "path, dirs, files = os.walk(\"lenders\").next()\n",
      "file_count = len(files)\n",
      "\n",
      "lenders = pd.DataFrame()\n",
      "\n",
      "\n",
      "%time\n",
      "for i in range(1, 20):\n",
      "    d = open('lenders/%s.json' % i)\n",
      "    raw = js.load(d)\n",
      "    lenders = lenders.append(json_normalize(raw['lenders']))"
     ],
     "language": "python",
     "metadata": {},
     "outputs": [
      {
       "output_type": "stream",
       "stream": "stdout",
       "text": [
        "CPU times: user 0 ns, sys: 0 ns, total: 0 ns\n",
        "Wall time: 5.96 \u00b5s\n"
       ]
      }
     ],
     "prompt_number": 9
    },
    {
     "cell_type": "code",
     "collapsed": false,
     "input": [],
     "language": "python",
     "metadata": {},
     "outputs": [],
     "prompt_number": 74
    },
    {
     "cell_type": "code",
     "collapsed": false,
     "input": [
      "#Drop image.id and image.template_id, occupational_info, loan_because columns\n",
      "lenders.drop('image.id', axis=1, inplace=True)\n",
      "lenders.drop('image.template_id', axis=1, inplace=True)\n",
      "lenders.drop('occupational_info', axis=1, inplace=True)\n",
      "lenders.drop('loan_because', axis=1, inplace=True)"
     ],
     "language": "python",
     "metadata": {},
     "outputs": [],
     "prompt_number": 5
    },
    {
     "cell_type": "code",
     "collapsed": false,
     "input": [
      "lenders.loan_count.plot(kind='box', ylim=[0, 15])"
     ],
     "language": "python",
     "metadata": {},
     "outputs": [
      {
       "metadata": {},
       "output_type": "pyout",
       "prompt_number": 45,
       "text": [
        "<matplotlib.axes._subplots.AxesSubplot at 0x7fe79703be50>"
       ]
      },
      {
       "metadata": {},
       "output_type": "display_data",
       "png": "[encoded data removed]",
       "text": [
        "<matplotlib.figure.Figure at 0x7fe797f05550>"
       ]
      }
     ],
     "prompt_number": 45
    },
    {
     "cell_type": "code",
     "collapsed": false,
     "input": [
      "path, dirs, files = os.walk(\"loans\").next()\n",
      "file_count = len(files)\n",
      "\n",
      "loans = pd.DataFrame()\n",
      "\n",
      "\n",
      "%time\n",
      "for i in range(500, 550):\n",
      "    d = open('loans/%s.json' % i)\n",
      "    raw = js.load(d)\n",
      "    loans = loans.append(json_normalize(raw['loans']))"
     ],
     "language": "python",
     "metadata": {},
     "outputs": [
      {
       "output_type": "stream",
       "stream": "stdout",
       "text": [
        "CPU times: user 4 \u00b5s, sys: 0 ns, total: 4 \u00b5s\n",
        "Wall time: 7.15 \u00b5s\n"
       ]
      }
     ],
     "prompt_number": 73
    },
    {
     "cell_type": "code",
     "collapsed": false,
     "input": [
      "loans.delinquent[loans.delinquent == True].count()"
     ],
     "language": "python",
     "metadata": {},
     "outputs": [
      {
       "metadata": {},
       "output_type": "pyout",
       "prompt_number": 48,
       "text": [
        "1721"
       ]
      }
     ],
     "prompt_number": 48
    },
    {
     "cell_type": "code",
     "collapsed": false,
     "input": [
      "loans.delinquent[pd.isnull(loans.delinquent)] = False"
     ],
     "language": "python",
     "metadata": {},
     "outputs": [
      {
       "output_type": "stream",
       "stream": "stderr",
       "text": [
        "-c:1: SettingWithCopyWarning: \n",
        "A value is trying to be set on a copy of a slice from a DataFrame\n",
        "\n",
        "See the the caveats in the documentation: http://pandas.pydata.org/pandas-docs/stable/indexing.html#indexing-view-versus-copy\n"
       ]
      }
     ],
     "prompt_number": 46
    },
    {
     "cell_type": "code",
     "collapsed": false,
     "input": [
      "loans.info()"
     ],
     "language": "python",
     "metadata": {},
     "outputs": [
      {
       "output_type": "stream",
       "stream": "stdout",
       "text": [
        "<class 'pandas.core.frame.DataFrame'>\n",
        "Int64Index: 14500 entries, 0 to 499\n",
        "Data columns (total 53 columns):\n",
        "activity                                                14500 non-null object\n",
        "basket_amount                                           0 non-null object\n",
        "bonus_credit_eligibility                                14500 non-null bool\n",
        "borrowers                                               14500 non-null object\n",
        "currency_exchange_loss_amount                           0 non-null object\n",
        "delinquent                                              14500 non-null object\n",
        "description.languages                                   14500 non-null object\n",
        "description.texts.en                                    13555 non-null object\n",
        "description.texts.es                                    703 non-null object\n",
        "description.texts.fr                                    164 non-null object\n",
        "description.texts.pt                                    19 non-null object\n",
        "description.texts.ru                                    48 non-null object\n",
        "description.texts.vi                                    12 non-null object\n",
        "funded_amount                                           14500 non-null int64\n",
        "funded_date                                             14155 non-null object\n",
        "id                                                      14500 non-null int64\n",
        "image.id                                                14500 non-null int64\n",
        "image.template_id                                       14500 non-null int64\n",
        "journal_totals.bulkEntries                              14500 non-null int64\n",
        "journal_totals.entries                                  14500 non-null int64\n",
        "lender_count                                            14500 non-null int64\n",
        "loan_amount                                             14500 non-null int64\n",
        "location.country                                        14500 non-null object\n",
        "location.country_code                                   14500 non-null object\n",
        "location.geo.level                                      14500 non-null object\n",
        "location.geo.pairs                                      14500 non-null object\n",
        "location.geo.type                                       14500 non-null object\n",
        "location.town                                           12213 non-null object\n",
        "name                                                    14500 non-null object\n",
        "paid_amount                                             11874 non-null float64\n",
        "paid_date                                               12080 non-null object\n",
        "partner_id                                              14500 non-null int64\n",
        "payments                                                14500 non-null object\n",
        "planned_expiration_date                                 0 non-null object\n",
        "posted_date                                             14164 non-null object\n",
        "sector                                                  14500 non-null object\n",
        "status                                                  14500 non-null object\n",
        "tags                                                    14500 non-null object\n",
        "terms.disbursal_amount                                  14500 non-null float64\n",
        "terms.disbursal_currency                                13960 non-null object\n",
        "terms.disbursal_date                                    14169 non-null object\n",
        "terms.loan_amount                                       14500 non-null int64\n",
        "terms.local_payments                                    14500 non-null object\n",
        "terms.loss_liability.currency_exchange                  14500 non-null object\n",
        "terms.loss_liability.currency_exchange_coverage_rate    0 non-null object\n",
        "terms.loss_liability.nonpayment                         14500 non-null object\n",
        "terms.repayment_interval                                13960 non-null object\n",
        "terms.repayment_term                                    14165 non-null float64\n",
        "terms.scheduled_payments                                14500 non-null object\n",
        "theme                                                   127 non-null object\n",
        "translator                                              0 non-null object\n",
        "use                                                     14500 non-null object\n",
        "video                                                   0 non-null object\n",
        "dtypes: bool(1), float64(3), int64(10), object(39)\n",
        "memory usage: 5.9+ MB\n"
       ]
      }
     ],
     "prompt_number": 58
    },
    {
     "cell_type": "code",
     "collapsed": false,
     "input": [
      "#Drop image.id and image.template_id, occupational_info, loan_because columns\n",
      "loans.drop('image.id', axis=1, inplace=True)\n",
      "loans.drop('image.template_id', axis=1, inplace=True)\n",
      "loans.drop('use', axis=1, inplace=True)\n",
      "loans.drop('video', axis=1, inplace=True)\n",
      "loans.drop('translator', axis=1, inplace=True)\n",
      "loans.drop('terms.scheduled_payments', axis=1, inplace=True)\n"
     ],
     "language": "python",
     "metadata": {},
     "outputs": [],
     "prompt_number": 89
    },
    {
     "cell_type": "code",
     "collapsed": false,
     "input": [],
     "language": "python",
     "metadata": {},
     "outputs": [
      {
       "metadata": {},
       "output_type": "pyout",
       "prompt_number": 91,
       "text": [
        "array([None], dtype=object)"
       ]
      }
     ],
     "prompt_number": 91
    },
    {
     "cell_type": "code",
     "collapsed": false,
     "input": [
      "d= Data('lenders/*.json')"
     ],
     "language": "python",
     "metadata": {},
     "outputs": [
      {
       "ename": "AttributeError",
       "evalue": "'Record' object has no attribute 'subshape'",
       "output_type": "pyerr",
       "traceback": [
        "\u001b[1;31m---------------------------------------------------------------------------\u001b[0m\n\u001b[1;31mAttributeError\u001b[0m                            Traceback (most recent call last)",
        "\u001b[1;32m<ipython-input-103-cc6f6a0f77d3>\u001b[0m in \u001b[0;36m<module>\u001b[1;34m()\u001b[0m\n\u001b[1;32m----> 1\u001b[1;33m \u001b[0md\u001b[0m\u001b[1;33m=\u001b[0m \u001b[0mData\u001b[0m\u001b[1;33m(\u001b[0m\u001b[1;34m'lenders/*.json'\u001b[0m\u001b[1;33m)\u001b[0m\u001b[1;33m\u001b[0m\u001b[0m\n\u001b[0m",
        "\u001b[1;32m/home/ubuntu/anaconda/lib/python2.7/site-packages/blaze/interactive.pyc\u001b[0m in \u001b[0;36m__init__\u001b[1;34m(self, data, dshape, name, fields, columns, schema, **kwargs)\u001b[0m\n\u001b[0;32m     93\u001b[0m             \u001b[0mdshape\u001b[0m \u001b[1;33m=\u001b[0m \u001b[0mdatashape\u001b[0m\u001b[1;33m.\u001b[0m\u001b[0mdshape\u001b[0m\u001b[1;33m(\u001b[0m\u001b[0mdshape\u001b[0m\u001b[1;33m)\u001b[0m\u001b[1;33m\u001b[0m\u001b[0m\n\u001b[0;32m     94\u001b[0m         \u001b[1;32mif\u001b[0m \u001b[1;32mnot\u001b[0m \u001b[0mdshape\u001b[0m\u001b[1;33m:\u001b[0m\u001b[1;33m\u001b[0m\u001b[0m\n\u001b[1;32m---> 95\u001b[1;33m             \u001b[0mdshape\u001b[0m \u001b[1;33m=\u001b[0m \u001b[0mdiscover\u001b[0m\u001b[1;33m(\u001b[0m\u001b[0mdata\u001b[0m\u001b[1;33m)\u001b[0m\u001b[1;33m\u001b[0m\u001b[0m\n\u001b[0m\u001b[0;32m     96\u001b[0m             \u001b[0mtypes\u001b[0m \u001b[1;33m=\u001b[0m \u001b[0mNone\u001b[0m\u001b[1;33m\u001b[0m\u001b[0m\n\u001b[0;32m     97\u001b[0m             \u001b[1;32mif\u001b[0m \u001b[0misinstance\u001b[0m\u001b[1;33m(\u001b[0m\u001b[0mdshape\u001b[0m\u001b[1;33m.\u001b[0m\u001b[0mmeasure\u001b[0m\u001b[1;33m,\u001b[0m \u001b[0mTuple\u001b[0m\u001b[1;33m)\u001b[0m \u001b[1;32mand\u001b[0m \u001b[0mfields\u001b[0m\u001b[1;33m:\u001b[0m\u001b[1;33m\u001b[0m\u001b[0m\n",
        "\u001b[1;32m/home/ubuntu/anaconda/lib/python2.7/site-packages/multipledispatch/dispatcher.pyc\u001b[0m in \u001b[0;36m__call__\u001b[1;34m(self, *args, **kwargs)\u001b[0m\n\u001b[0;32m    161\u001b[0m             \u001b[0mself\u001b[0m\u001b[1;33m.\u001b[0m\u001b[0m_cache\u001b[0m\u001b[1;33m[\u001b[0m\u001b[0mtypes\u001b[0m\u001b[1;33m]\u001b[0m \u001b[1;33m=\u001b[0m \u001b[0mfunc\u001b[0m\u001b[1;33m\u001b[0m\u001b[0m\n\u001b[0;32m    162\u001b[0m         \u001b[1;32mtry\u001b[0m\u001b[1;33m:\u001b[0m\u001b[1;33m\u001b[0m\u001b[0m\n\u001b[1;32m--> 163\u001b[1;33m             \u001b[1;32mreturn\u001b[0m \u001b[0mfunc\u001b[0m\u001b[1;33m(\u001b[0m\u001b[1;33m*\u001b[0m\u001b[0margs\u001b[0m\u001b[1;33m,\u001b[0m \u001b[1;33m**\u001b[0m\u001b[0mkwargs\u001b[0m\u001b[1;33m)\u001b[0m\u001b[1;33m\u001b[0m\u001b[0m\n\u001b[0m\u001b[0;32m    164\u001b[0m \u001b[1;33m\u001b[0m\u001b[0m\n\u001b[0;32m    165\u001b[0m         \u001b[1;32mexcept\u001b[0m \u001b[0mMDNotImplementedError\u001b[0m\u001b[1;33m:\u001b[0m\u001b[1;33m\u001b[0m\u001b[0m\n",
        "\u001b[1;32m/home/ubuntu/anaconda/lib/python2.7/site-packages/into/chunks.pyc\u001b[0m in \u001b[0;36mdiscover_chunks\u001b[1;34m(c, **kwargs)\u001b[0m\n\u001b[0;32m     48\u001b[0m \u001b[1;33m@\u001b[0m\u001b[0mdiscover\u001b[0m\u001b[1;33m.\u001b[0m\u001b[0mregister\u001b[0m\u001b[1;33m(\u001b[0m\u001b[0mChunks\u001b[0m\u001b[1;33m)\u001b[0m\u001b[1;33m\u001b[0m\u001b[0m\n\u001b[0;32m     49\u001b[0m \u001b[1;32mdef\u001b[0m \u001b[0mdiscover_chunks\u001b[0m\u001b[1;33m(\u001b[0m\u001b[0mc\u001b[0m\u001b[1;33m,\u001b[0m \u001b[1;33m**\u001b[0m\u001b[0mkwargs\u001b[0m\u001b[1;33m)\u001b[0m\u001b[1;33m:\u001b[0m\u001b[1;33m\u001b[0m\u001b[0m\n\u001b[1;32m---> 50\u001b[1;33m     \u001b[1;32mreturn\u001b[0m \u001b[0mvar\u001b[0m \u001b[1;33m*\u001b[0m \u001b[0mdiscover\u001b[0m\u001b[1;33m(\u001b[0m\u001b[0mfirst\u001b[0m\u001b[1;33m(\u001b[0m\u001b[0mc\u001b[0m\u001b[1;33m)\u001b[0m\u001b[1;33m)\u001b[0m\u001b[1;33m.\u001b[0m\u001b[0msubshape\u001b[0m\u001b[1;33m[\u001b[0m\u001b[1;36m0\u001b[0m\u001b[1;33m]\u001b[0m\u001b[1;33m\u001b[0m\u001b[0m\n\u001b[0m",
        "\u001b[1;31mAttributeError\u001b[0m: 'Record' object has no attribute 'subshape'"
       ]
      }
     ],
     "prompt_number": 103
    },
    {
     "cell_type": "code",
     "collapsed": false,
     "input": [],
     "language": "python",
     "metadata": {},
     "outputs": [
      {
       "html": [
        "1000"
       ],
       "metadata": {},
       "output_type": "pyout",
       "prompt_number": 102,
       "text": [
        "1000"
       ]
      }
     ],
     "prompt_number": 102
    },
    {
     "cell_type": "code",
     "collapsed": false,
     "input": [],
     "language": "python",
     "metadata": {},
     "outputs": []
    }
   ],
   "metadata": {}
  }
 ]
}