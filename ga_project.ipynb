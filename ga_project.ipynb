{
 "metadata": {
  "name": "",
  "signature": "sha256:404c1ad2c7a1d0bc8b65fd20c794d9c97d235a89b44604f34c738fb8035db91e"
 },
 "nbformat": 3,
 "nbformat_minor": 0,
 "worksheets": [
  {
   "cells": [
    {
     "cell_type": "code",
     "collapsed": false,
     "input": [
      "import matplotlib\n",
      "matplotlib.use('Agg')\n",
      "import matplotlib.pyplot as plt\n",
      "import pandas as pd\n",
      "import os\n",
      "import numpy as np\n",
      "import json as js\n",
      "import random\n",
      "import seaborn\n",
      "from bokeh.plotting import *\n",
      "from pandas.io.json import json_normalize\n",
      "from pandas.tools.plotting import scatter_matrix\n",
      "pd.set_option('display.max_columns', None)\n",
      "\n",
      "pd.set_option('display.height', 500)\n",
      "pd.set_option('display.max_rows', 20)\n",
      "pd.set_option('display.width', 1000)"
     ],
     "language": "python",
     "metadata": {},
     "outputs": [
      {
       "output_type": "stream",
       "stream": "stdout",
       "text": [
        "height has been deprecated.\n",
        "\n"
       ]
      }
     ],
     "prompt_number": 84
    },
    {
     "cell_type": "code",
     "collapsed": false,
     "input": [
      "path, dirs, files = os.walk(\"lenders\").next()\n",
      "file_count = len(files)\n",
      "\n",
      "lenders = pd.DataFrame()\n",
      "\n",
      "\n",
      "%time\n",
      "for i in range(1, 20):\n",
      "    d = open('lenders/%s.json' % i)\n",
      "    raw = js.load(d)\n",
      "    lenders = lenders.append(json_normalize(raw['lenders']))"
     ],
     "language": "python",
     "metadata": {},
     "outputs": [
      {
       "output_type": "stream",
       "stream": "stdout",
       "text": [
        "CPU times: user 3 \u00b5s, sys: 0 ns, total: 3 \u00b5s\n",
        "Wall time: 5.01 \u00b5s\n"
       ]
      }
     ],
     "prompt_number": 3
    },
    {
     "cell_type": "code",
     "collapsed": false,
     "input": [
      "#Drop image.id and image.template_id, occupational_info, loan_because columns\n",
      "lenders.drop('image.id', axis=1, inplace=True)\n",
      "lenders.drop('image.template_id', axis=1, inplace=True)\n",
      "lenders.drop('occupational_info', axis=1, inplace=True)\n",
      "lenders.drop('loan_because', axis=1, inplace=True)"
     ],
     "language": "python",
     "metadata": {},
     "outputs": [],
     "prompt_number": 4
    },
    {
     "cell_type": "code",
     "collapsed": false,
     "input": [
      "lenders.loan_count.plot(kind='box', ylim=[0, 100])"
     ],
     "language": "python",
     "metadata": {},
     "outputs": [
      {
       "metadata": {},
       "output_type": "pyout",
       "prompt_number": 5,
       "text": [
        "<matplotlib.axes._subplots.AxesSubplot at 0x7f9ad9483a10>"
       ]
      },
      {
       "metadata": {},
       "output_type": "display_data",
       "png": "[encoded data removed]",
       "text": [
        "<matplotlib.figure.Figure at 0x7f9ada0fff50>"
       ]
      }
     ],
     "prompt_number": 5
    },
    {
     "cell_type": "code",
     "collapsed": false,
     "input": [
      "path, dirs, files = os.walk(\"loans\").next()\n",
      "file_count = len(files)\n",
      "\n",
      "loans = pd.DataFrame()\n",
      "\n",
      "\n",
      "%time\n",
      "for i in random.sample(range(1, file_count + 1), 200):\n",
      "    d = open('loans/%s.json' % i)\n",
      "    raw = js.load(d)\n",
      "    loans = loans.append(json_normalize(raw['loans']))"
     ],
     "language": "python",
     "metadata": {},
     "outputs": [
      {
       "output_type": "stream",
       "stream": "stdout",
       "text": [
        "CPU times: user 3 \u00b5s, sys: 0 ns, total: 3 \u00b5s\n",
        "Wall time: 6.2 \u00b5s\n"
       ]
      }
     ],
     "prompt_number": 92
    },
    {
     "cell_type": "code",
     "collapsed": false,
     "input": [
      "# fill in null value for delinquent column\n",
      "loans.delinquent[pd.isnull(loans.delinquent)] = False"
     ],
     "language": "python",
     "metadata": {},
     "outputs": [],
     "prompt_number": 86
    },
    {
     "cell_type": "code",
     "collapsed": false,
     "input": [
      "#Dropping useless columns\n",
      "loans.drop('image.id', axis=1, inplace=True)\n",
      "loans.drop('image.template_id', axis=1, inplace=True)\n",
      "loans.drop('use', axis=1, inplace=True)\n",
      "loans.drop('video', axis=1, inplace=True)\n",
      "loans.drop('video.id', axis=1, inplace=True)\n",
      "loans.drop('video.thumbnailImageId', axis=1, inplace=True)\n",
      "loans.drop('video.title', axis=1, inplace=True)\n",
      "loans.drop('video.youtubeId', axis=1, inplace=True)\n",
      "loans.drop('translator', axis=1, inplace=True)\n",
      "loans.drop('terms.scheduled_payments', axis=1, inplace=True)\n",
      "loans.drop('id', axis=1, inplace=True)\n",
      "loans.drop('name', axis=1, inplace=True)\n",
      "loans.drop('tags', axis=1, inplace=True)\n",
      "loans.drop('description.languages', axis=1, inplace=True)\n",
      "loans.drop('description.texts.en', axis=1, inplace=True)\n",
      "loans.drop('description.texts.es', axis=1, inplace=True)\n",
      "loans.drop('description.texts.fr', axis=1, inplace=True)\n",
      "loans.drop('description.texts.pt', axis=1, inplace=True)\n",
      "loans.drop('description.texts.ru', axis=1, inplace=True)\n",
      "loans.drop('description.texts.vi', axis=1, inplace=True)\n",
      "loans.drop('description.texts.ar', axis=1, inplace=True)\n",
      "loans.drop('journal_totals.bulkEntries', axis=1, inplace=True)\n",
      "loans.drop('basket_amount', axis=1, inplace=True)\n",
      "loans.drop('borrowers', axis=1, inplace=True)\n",
      "loans.drop('location.geo.pairs', axis=1, inplace=True)\n",
      "loans.drop('location.country_code', axis=1, inplace=True)\n",
      "loans.drop('location.geo.type', axis=1, inplace=True)\n",
      "loans.drop('location.town', axis=1, inplace=True)\n",
      "loans.drop('translator.byline', axis=1, inplace=True)\n",
      "loans.drop('translator.image', axis=1, inplace=True)\n",
      "loans.drop('payments', axis=1, inplace=True)\n",
      "loans.drop('terms.loss_liability.currency_exchange_coverage_rate', axis=1, inplace=True)\n",
      "loans.drop('paid_amount', axis=1, inplace=True)\n",
      "loans.drop('paid_date', axis=1, inplace=True)\n",
      "loans.drop('terms.disbursal_amount', axis=1, inplace=True)\n",
      "loans.drop('terms.disbursal_date', axis=1, inplace=True)"
     ],
     "language": "python",
     "metadata": {},
     "outputs": [],
     "prompt_number": 87
    },
    {
     "cell_type": "code",
     "collapsed": false,
     "input": [
      "loans.head()"
     ],
     "language": "python",
     "metadata": {},
     "outputs": [
      {
       "html": [
        "<div style=\"max-height:1000px;max-width:1500px;overflow:auto;\">\n",
        "<table border=\"1\" class=\"dataframe\">\n",
        "  <thead>\n",
        "    <tr style=\"text-align: right;\">\n",
        "      <th></th>\n",
        "      <th>activity</th>\n",
        "      <th>bonus_credit_eligibility</th>\n",
        "      <th>currency_exchange_loss_amount</th>\n",
        "      <th>delinquent</th>\n",
        "      <th>description.texts.id</th>\n",
        "      <th>funded_amount</th>\n",
        "      <th>funded_date</th>\n",
        "      <th>journal_totals.entries</th>\n",
        "      <th>lender_count</th>\n",
        "      <th>loan_amount</th>\n",
        "      <th>location.country</th>\n",
        "      <th>location.geo.level</th>\n",
        "      <th>partner_id</th>\n",
        "      <th>planned_expiration_date</th>\n",
        "      <th>posted_date</th>\n",
        "      <th>sector</th>\n",
        "      <th>status</th>\n",
        "      <th>terms.disbursal_amount</th>\n",
        "      <th>terms.disbursal_currency</th>\n",
        "      <th>terms.disbursal_date</th>\n",
        "      <th>terms.loan_amount</th>\n",
        "      <th>terms.local_payments</th>\n",
        "      <th>terms.loss_liability.currency_exchange</th>\n",
        "      <th>terms.loss_liability.nonpayment</th>\n",
        "      <th>terms.repayment_interval</th>\n",
        "      <th>terms.repayment_term</th>\n",
        "      <th>theme</th>\n",
        "    </tr>\n",
        "  </thead>\n",
        "  <tbody>\n",
        "    <tr>\n",
        "      <th>0</th>\n",
        "      <td> Motorcycle Transport</td>\n",
        "      <td> False</td>\n",
        "      <td> NaN</td>\n",
        "      <td> False</td>\n",
        "      <td> NaN</td>\n",
        "      <td> 500</td>\n",
        "      <td> 2009-07-25T01:01:47Z</td>\n",
        "      <td> 0</td>\n",
        "      <td> 17</td>\n",
        "      <td> 500</td>\n",
        "      <td>    Peru</td>\n",
        "      <td> town</td>\n",
        "      <td> 71</td>\n",
        "      <td> None</td>\n",
        "      <td> 2009-07-23T04:00:07Z</td>\n",
        "      <td> Transportation</td>\n",
        "      <td> paid</td>\n",
        "      <td>   1500</td>\n",
        "      <td> PEN</td>\n",
        "      <td> 2009-07-03T07:00:00Z</td>\n",
        "      <td> 500</td>\n",
        "      <td> [{u'due_date': u'2009-08-04T07:00:00Z', u'amou...</td>\n",
        "      <td>  shared</td>\n",
        "      <td> partner</td>\n",
        "      <td> Monthly</td>\n",
        "      <td>  8</td>\n",
        "      <td> None</td>\n",
        "    </tr>\n",
        "    <tr>\n",
        "      <th>1</th>\n",
        "      <td>          Food Market</td>\n",
        "      <td> False</td>\n",
        "      <td> NaN</td>\n",
        "      <td> False</td>\n",
        "      <td> NaN</td>\n",
        "      <td> 550</td>\n",
        "      <td> 2009-07-22T14:37:30Z</td>\n",
        "      <td> 1</td>\n",
        "      <td> 11</td>\n",
        "      <td> 550</td>\n",
        "      <td> Nigeria</td>\n",
        "      <td> town</td>\n",
        "      <td> 20</td>\n",
        "      <td> None</td>\n",
        "      <td> 2009-07-22T11:30:05Z</td>\n",
        "      <td>           Food</td>\n",
        "      <td> paid</td>\n",
        "      <td>  80000</td>\n",
        "      <td> NGN</td>\n",
        "      <td> 2009-07-20T07:00:00Z</td>\n",
        "      <td> 550</td>\n",
        "      <td> [{u'due_date': u'2009-08-20T07:00:00Z', u'amou...</td>\n",
        "      <td>  shared</td>\n",
        "      <td> partner</td>\n",
        "      <td> Monthly</td>\n",
        "      <td> 10</td>\n",
        "      <td> None</td>\n",
        "    </tr>\n",
        "    <tr>\n",
        "      <th>2</th>\n",
        "      <td>          Food Market</td>\n",
        "      <td> False</td>\n",
        "      <td> NaN</td>\n",
        "      <td> False</td>\n",
        "      <td> NaN</td>\n",
        "      <td> 550</td>\n",
        "      <td> 2009-07-22T13:33:32Z</td>\n",
        "      <td> 1</td>\n",
        "      <td> 19</td>\n",
        "      <td> 550</td>\n",
        "      <td> Nigeria</td>\n",
        "      <td> town</td>\n",
        "      <td> 20</td>\n",
        "      <td> None</td>\n",
        "      <td> 2009-07-22T11:40:05Z</td>\n",
        "      <td>           Food</td>\n",
        "      <td> paid</td>\n",
        "      <td>  80000</td>\n",
        "      <td> NGN</td>\n",
        "      <td> 2009-07-20T07:00:00Z</td>\n",
        "      <td> 550</td>\n",
        "      <td> [{u'due_date': u'2009-08-20T07:00:00Z', u'amou...</td>\n",
        "      <td>  shared</td>\n",
        "      <td> partner</td>\n",
        "      <td> Monthly</td>\n",
        "      <td> 10</td>\n",
        "      <td> None</td>\n",
        "    </tr>\n",
        "    <tr>\n",
        "      <th>3</th>\n",
        "      <td>        Grocery Store</td>\n",
        "      <td> False</td>\n",
        "      <td> NaN</td>\n",
        "      <td> False</td>\n",
        "      <td> NaN</td>\n",
        "      <td> 500</td>\n",
        "      <td> 2009-07-24T16:45:59Z</td>\n",
        "      <td> 0</td>\n",
        "      <td> 15</td>\n",
        "      <td> 500</td>\n",
        "      <td>    Peru</td>\n",
        "      <td> town</td>\n",
        "      <td> 71</td>\n",
        "      <td> None</td>\n",
        "      <td> 2009-07-23T04:10:05Z</td>\n",
        "      <td>           Food</td>\n",
        "      <td> paid</td>\n",
        "      <td>   1500</td>\n",
        "      <td> PEN</td>\n",
        "      <td> 2009-07-08T07:00:00Z</td>\n",
        "      <td> 500</td>\n",
        "      <td> [{u'due_date': u'2009-08-07T07:00:00Z', u'amou...</td>\n",
        "      <td>  shared</td>\n",
        "      <td> partner</td>\n",
        "      <td> Monthly</td>\n",
        "      <td>  8</td>\n",
        "      <td> None</td>\n",
        "    </tr>\n",
        "    <tr>\n",
        "      <th>4</th>\n",
        "      <td>         Fish Selling</td>\n",
        "      <td> False</td>\n",
        "      <td> NaN</td>\n",
        "      <td> False</td>\n",
        "      <td> NaN</td>\n",
        "      <td> 650</td>\n",
        "      <td> 2009-07-22T18:41:02Z</td>\n",
        "      <td> 0</td>\n",
        "      <td> 23</td>\n",
        "      <td> 650</td>\n",
        "      <td>    Togo</td>\n",
        "      <td> town</td>\n",
        "      <td> 99</td>\n",
        "      <td> None</td>\n",
        "      <td> 2009-07-22T14:50:06Z</td>\n",
        "      <td>           Food</td>\n",
        "      <td> paid</td>\n",
        "      <td> 300000</td>\n",
        "      <td> XOF</td>\n",
        "      <td> 2009-06-25T07:00:00Z</td>\n",
        "      <td> 650</td>\n",
        "      <td> [{u'due_date': u'2009-07-31T07:00:00Z', u'amou...</td>\n",
        "      <td> partner</td>\n",
        "      <td> partner</td>\n",
        "      <td> Monthly</td>\n",
        "      <td> 13</td>\n",
        "      <td> None</td>\n",
        "    </tr>\n",
        "  </tbody>\n",
        "</table>\n",
        "</div>"
       ],
       "metadata": {},
       "output_type": "pyout",
       "prompt_number": 88,
       "text": [
        "               activity bonus_credit_eligibility currency_exchange_loss_amount delinquent description.texts.id  funded_amount           funded_date  journal_totals.entries  lender_count  loan_amount location.country location.geo.level  partner_id planned_expiration_date           posted_date          sector status  terms.disbursal_amount terms.disbursal_currency  terms.disbursal_date  terms.loan_amount                               terms.local_payments terms.loss_liability.currency_exchange terms.loss_liability.nonpayment terms.repayment_interval  terms.repayment_term theme\n",
        "0  Motorcycle Transport                    False                           NaN      False                  NaN            500  2009-07-25T01:01:47Z                       0            17          500             Peru               town          71                    None  2009-07-23T04:00:07Z  Transportation   paid                    1500                      PEN  2009-07-03T07:00:00Z                500  [{u'due_date': u'2009-08-04T07:00:00Z', u'amou...                                 shared                         partner                  Monthly                     8  None\n",
        "1           Food Market                    False                           NaN      False                  NaN            550  2009-07-22T14:37:30Z                       1            11          550          Nigeria               town          20                    None  2009-07-22T11:30:05Z            Food   paid                   80000                      NGN  2009-07-20T07:00:00Z                550  [{u'due_date': u'2009-08-20T07:00:00Z', u'amou...                                 shared                         partner                  Monthly                    10  None\n",
        "2           Food Market                    False                           NaN      False                  NaN            550  2009-07-22T13:33:32Z                       1            19          550          Nigeria               town          20                    None  2009-07-22T11:40:05Z            Food   paid                   80000                      NGN  2009-07-20T07:00:00Z                550  [{u'due_date': u'2009-08-20T07:00:00Z', u'amou...                                 shared                         partner                  Monthly                    10  None\n",
        "3         Grocery Store                    False                           NaN      False                  NaN            500  2009-07-24T16:45:59Z                       0            15          500             Peru               town          71                    None  2009-07-23T04:10:05Z            Food   paid                    1500                      PEN  2009-07-08T07:00:00Z                500  [{u'due_date': u'2009-08-07T07:00:00Z', u'amou...                                 shared                         partner                  Monthly                     8  None\n",
        "4          Fish Selling                    False                           NaN      False                  NaN            650  2009-07-22T18:41:02Z                       0            23          650             Togo               town          99                    None  2009-07-22T14:50:06Z            Food   paid                  300000                      XOF  2009-06-25T07:00:00Z                650  [{u'due_date': u'2009-07-31T07:00:00Z', u'amou...                                partner                         partner                  Monthly                    13  None"
       ]
      }
     ],
     "prompt_number": 88
    },
    {
     "cell_type": "code",
     "collapsed": false,
     "input": [
      "# replace NaN and None with zeroes in currency_exchange_loss_amount \n",
      "loans.currency_exchange_loss_amount.fillna(0, inplace=True)"
     ],
     "language": "python",
     "metadata": {},
     "outputs": [],
     "prompt_number": 89
    },
    {
     "cell_type": "code",
     "collapsed": false,
     "input": [
      "# Check the funded_date column and create a new column 'funded' based on whether a date exists\n",
      "# This column will serve as our Y value\n",
      "def funded(x):\n",
      "    if pd.isnull(x):\n",
      "        return False\n",
      "    else:\n",
      "        return True\n",
      "\n",
      "loans['funded'] = loans['funded_date'].map(funded)"
     ],
     "language": "python",
     "metadata": {},
     "outputs": [],
     "prompt_number": 90
    },
    {
     "cell_type": "code",
     "collapsed": false,
     "input": [],
     "language": "python",
     "metadata": {},
     "outputs": [],
     "prompt_number": 91
    },
    {
     "cell_type": "code",
     "collapsed": false,
     "input": [
      "loans.planned_expiration_date.unique()"
     ],
     "language": "python",
     "metadata": {},
     "outputs": [
      {
       "metadata": {},
       "output_type": "pyout",
       "prompt_number": 75,
       "text": [
        "array([None], dtype=object)"
       ]
      }
     ],
     "prompt_number": 75
    },
    {
     "cell_type": "code",
     "collapsed": false,
     "input": [],
     "language": "python",
     "metadata": {},
     "outputs": [],
     "prompt_number": 25
    },
    {
     "cell_type": "code",
     "collapsed": false,
     "input": [],
     "language": "python",
     "metadata": {},
     "outputs": []
    },
    {
     "cell_type": "code",
     "collapsed": false,
     "input": [],
     "language": "python",
     "metadata": {},
     "outputs": []
    }
   ],
   "metadata": {}
  }
 ]
}